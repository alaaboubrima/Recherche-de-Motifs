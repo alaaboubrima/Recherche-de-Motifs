{
 "cells": [
  {
   "cell_type": "markdown",
   "id": "cfd4d61c",
   "metadata": {},
   "source": [
    "1+2"
   ]
  },
  {
   "cell_type": "code",
   "execution_count": null,
   "id": "f664428c",
   "metadata": {},
   "outputs": [],
   "source": [
    "def boyer_moore(text, pattern):\n",
    "    \"\"\"Implémentation de l'algorithme de Boyer-Moore pour rechercher toutes les occurrences d'un motif dans un texte.\"\"\"\n",
    "    occurrences = []\n",
    "    n = len(text)\n",
    "    m = len(pattern)\n",
    "\n",
    "    # Prétraitement du motif pour créer les tableaux de saut\n",
    "    skip = {}\n",
    "    for i in range(m - 1):\n",
    "        skip[pattern[i]] = m - i - 1\n",
    "\n",
    "    # Recherche du motif dans le texte\n",
    "    i = m - 1\n",
    "    while i < n:\n",
    "        j = m - 1\n",
    "        while j >= 0 and text[i] == pattern[j]:\n",
    "            i -= 1\n",
    "            j -= 1\n",
    "\n",
    "        if j == -1:\n",
    "            # Motif trouvé\n",
    "            occurrences.append(i + 1)\n",
    "            i += m - 1\n",
    "        else:\n",
    "            # Déplacement basé sur les tableaux de saut\n",
    "            if text[i] in skip:\n",
    "                i += skip[text[i]]\n",
    "            else:\n",
    "                i += m\n",
    "\n",
    "    return occurrences\n",
    "\n",
    "\n"
   ]
  },
  {
   "cell_type": "code",
   "execution_count": null,
   "id": "7a403898",
   "metadata": {},
   "outputs": [],
   "source": [
    "# Exemple d'utilisation\n",
    "texte = \"ABABDABACDABABCABAB\"\n",
    "motif = \"ABABCABAB\"\n",
    "resultat = boyer_moore(texte, motif)\n",
    "print(\"Occurrences du motif dans le texte :\")\n",
    "if len(resultat) > 0:\n",
    "    print(resultat)\n",
    "else:\n",
    "    print(\"Aucune occurrence trouvée.\")"
   ]
  },
  {
   "cell_type": "code",
   "execution_count": null,
   "id": "507351d9",
   "metadata": {},
   "outputs": [],
   "source": []
  }
 ],
 "metadata": {
  "kernelspec": {
   "display_name": "Python 3 (ipykernel)",
   "language": "python",
   "name": "python3"
  },
  "language_info": {
   "codemirror_mode": {
    "name": "ipython",
    "version": 3
   },
   "file_extension": ".py",
   "mimetype": "text/x-python",
   "name": "python",
   "nbconvert_exporter": "python",
   "pygments_lexer": "ipython3",
   "version": "3.9.15"
  }
 },
 "nbformat": 4,
 "nbformat_minor": 5
}
